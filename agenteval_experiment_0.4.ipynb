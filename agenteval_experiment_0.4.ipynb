{
 "cells": [
  {
   "cell_type": "markdown",
   "metadata": {},
   "source": [
    "# AgentEval Framework\n",
    "\n",
    "**Description:** [AgentEval](https://microsoft.github.io/autogen/0.2/blog/2024/06/21/AgentEval) (additionally read about the prior work on [Task Utility of LLM](https://microsoft.github.io/autogen/0.2/blog/2023/11/20/AgentEval/)) is a comprehensive framework designed to bridge the gap in assessing the utility of LLM-powered applications. It leverages recent advancements in LLMs to offer a scalable and cost-effective alternative to traditional human evaluations. The framework comprises three main agents: CriticAgent, QuantifierAgent, and VerifierAgent, each playing a crucial role in assessing the task utility of an application.\n",
    "\n",
    "<img src=\"https://microsoft.github.io/autogen/0.2/assets/images/agenteval_ov_v3-c471c3a909d8046fc75e70fb198e63ac.png\" alt=\"AgentEval\" width=\"500\" height=\"400\">\n",
    "\n",
    "Figure 1: AgentEval Framework (source https://microsoft.github.io/autogen)\n",
    "\n",
    "**NOTE:** This implementation is based on `AutoGen 0.4` version of the framework."
   ]
  },
  {
   "cell_type": "markdown",
   "metadata": {},
   "source": [
    "## Experiment Use Case\n",
    "\n",
    "**Use Case:** For this demonstration, we will use **Summarization** as the task to see how `AgentEval` can be used to perform evaluations on the summarization task. With / without `human-in-the-loop` evaluations. Where human-in-the-loop evaluations are performed not only for `Multi-dimensional Task Utility` but also intermediate agents, like `QuantifierAgent` and `CriticAgent`.\n",
    "\n",
    "Additionally, we will also try to incorporate the Human feedback to the CriticAgent and QuantifierAgent via `VerifierAgent` (stretch goal).\n",
    "\n",
    "**Data:** We have used the [CNN Daily Mail Dataset (Hugging Face)](https://huggingface.co/datasets/abisee/cnn_dailymail) to perform the evaluation.\n",
    "\n",
    "**Offline Mode Only:** For this demonstration, we will only use the offline mode of the `AgentEval` framework. Where the logs many not be in the format what `AutoGen` produces.\n",
    "\n"
   ]
  },
  {
   "cell_type": "markdown",
   "metadata": {},
   "source": [
    "## Initial Setup"
   ]
  },
  {
   "cell_type": "code",
   "execution_count": null,
   "metadata": {},
   "outputs": [],
   "source": [
    "%pip install -r requirements.txt"
   ]
  },
  {
   "cell_type": "code",
   "execution_count": 1,
   "metadata": {},
   "outputs": [],
   "source": [
    "# Imports\n",
    "import os\n",
    "import ast\n",
    "\n",
    "from dotenv import load_dotenv\n",
    "import pandas as pd\n",
    "import matplotlib\n",
    "\n",
    "from azure.identity import DefaultAzureCredential, get_bearer_token_provider\n",
    "from autogen_ext.models.openai import AzureOpenAIChatCompletionClient\n",
    "\n",
    "from agent_eval.agent_eval import generate_criteria, quantify_criteria, generate_summarized_criteria_multiple_seeds, quantify_criteria_multiple_seeds\n",
    "from agent_eval.task import Task\n",
    "from agent_eval.verifier_agent import Verify\n",
    "\n",
    "import warnings; warnings.simplefilter('ignore')\n",
    "import logging\n",
    "logging.getLogger().setLevel(logging.INFO)"
   ]
  },
  {
   "cell_type": "code",
   "execution_count": 2,
   "metadata": {},
   "outputs": [
    {
     "data": {
      "text/plain": [
       "True"
      ]
     },
     "execution_count": 2,
     "metadata": {},
     "output_type": "execute_result"
    }
   ],
   "source": [
    "# Load autogen configuration\n",
    "load_dotenv(override=True)"
   ]
  },
  {
   "cell_type": "code",
   "execution_count": 3,
   "metadata": {},
   "outputs": [],
   "source": [
    "# Create the token provider\n",
    "token_provider = get_bearer_token_provider(DefaultAzureCredential(), \"https://cognitiveservices.azure.com/.default\")\n",
    "\n",
    "az_openai_model_client = AzureOpenAIChatCompletionClient(\n",
    "    azure_deployment=\"gpt-4\",\n",
    "    model=\"gpt-4\",\n",
    "    api_version=\"2024-02-01\",\n",
    "    azure_endpoint=os.environ['AZURE_OPENAI_BASE_URL'],\n",
    "    azure_ad_token_provider=token_provider,\n",
    ")"
   ]
  },
  {
   "cell_type": "markdown",
   "metadata": {},
   "source": [
    "## Experiment Data Preparation\n",
    "\n",
    "Take the sampled Hugging Face dataset and prepare the data for the experiment. This will resent the **Logs** in the `Figure 2`."
   ]
  },
  {
   "cell_type": "code",
   "execution_count": 4,
   "metadata": {},
   "outputs": [
    {
     "name": "stdout",
     "output_type": "stream",
     "text": [
      "Shape of the original dataframe:  (100, 3)\n",
      "Columns of the dataframe:  Index(['article', 'highlights', 'id'], dtype='object')\n",
      "Shape of the dataframe after taking only 15 rows:  (15, 3)\n"
     ]
    },
    {
     "data": {
      "text/html": [
       "<div>\n",
       "<style scoped>\n",
       "    .dataframe tbody tr th:only-of-type {\n",
       "        vertical-align: middle;\n",
       "    }\n",
       "\n",
       "    .dataframe tbody tr th {\n",
       "        vertical-align: top;\n",
       "    }\n",
       "\n",
       "    .dataframe thead th {\n",
       "        text-align: right;\n",
       "    }\n",
       "</style>\n",
       "<table border=\"1\" class=\"dataframe\">\n",
       "  <thead>\n",
       "    <tr style=\"text-align: right;\">\n",
       "      <th></th>\n",
       "      <th>article</th>\n",
       "      <th>highlights</th>\n",
       "      <th>id</th>\n",
       "    </tr>\n",
       "  </thead>\n",
       "  <tbody>\n",
       "    <tr>\n",
       "      <th>0</th>\n",
       "      <td>(The Hollywood Reporter)Ben Powers, who played...</td>\n",
       "      <td>Ben Powers joined the cast of \"Good Times\" for...</td>\n",
       "      <td>17c7a92562fc02d45bd6f87470ab93d23e8b2095</td>\n",
       "    </tr>\n",
       "    <tr>\n",
       "      <th>1</th>\n",
       "      <td>The mother of a five-year-old girl has told of...</td>\n",
       "      <td>Alexis Douglas was outside a friend's house wh...</td>\n",
       "      <td>849d78f1ab168211e20f7eaf2643d1c8a0563855</td>\n",
       "    </tr>\n",
       "    <tr>\n",
       "      <th>2</th>\n",
       "      <td>Demetrious Johnson retained his UFC flyweight ...</td>\n",
       "      <td>Demetrious Johnson retains his UFC flyweight t...</td>\n",
       "      <td>dad42c89fe4d85c614836236e450af6e8e79eb2d</td>\n",
       "    </tr>\n",
       "    <tr>\n",
       "      <th>3</th>\n",
       "      <td>A red hot Novak Djokovic is being tipped to en...</td>\n",
       "      <td>Rafael Nadal lost heavily to Novak Djokovic on...</td>\n",
       "      <td>c3b8e6b3cd4b1a87a8e4432c5aa3ed13f33d0e35</td>\n",
       "    </tr>\n",
       "    <tr>\n",
       "      <th>4</th>\n",
       "      <td>Online marriage proposals and star-struck chil...</td>\n",
       "      <td>Sydney Tech journalist Rae Johnston is a passi...</td>\n",
       "      <td>c1f74d08bb21b794cbcdfe5f5be81e4eca728c14</td>\n",
       "    </tr>\n",
       "  </tbody>\n",
       "</table>\n",
       "</div>"
      ],
      "text/plain": [
       "                                             article  \\\n",
       "0  (The Hollywood Reporter)Ben Powers, who played...   \n",
       "1  The mother of a five-year-old girl has told of...   \n",
       "2  Demetrious Johnson retained his UFC flyweight ...   \n",
       "3  A red hot Novak Djokovic is being tipped to en...   \n",
       "4  Online marriage proposals and star-struck chil...   \n",
       "\n",
       "                                          highlights  \\\n",
       "0  Ben Powers joined the cast of \"Good Times\" for...   \n",
       "1  Alexis Douglas was outside a friend's house wh...   \n",
       "2  Demetrious Johnson retains his UFC flyweight t...   \n",
       "3  Rafael Nadal lost heavily to Novak Djokovic on...   \n",
       "4  Sydney Tech journalist Rae Johnston is a passi...   \n",
       "\n",
       "                                         id  \n",
       "0  17c7a92562fc02d45bd6f87470ab93d23e8b2095  \n",
       "1  849d78f1ab168211e20f7eaf2643d1c8a0563855  \n",
       "2  dad42c89fe4d85c614836236e450af6e8e79eb2d  \n",
       "3  c3b8e6b3cd4b1a87a8e4432c5aa3ed13f33d0e35  \n",
       "4  c1f74d08bb21b794cbcdfe5f5be81e4eca728c14  "
      ]
     },
     "execution_count": 4,
     "metadata": {},
     "output_type": "execute_result"
    }
   ],
   "source": [
    "# Read the parquet file\n",
    "df = pd.read_parquet(\"data/abisee_cnn_dailymail/sample.parquet\")\n",
    "\n",
    "print(\"Shape of the original dataframe: \", df.shape)\n",
    "print(\"Columns of the dataframe: \", df.columns)\n",
    "df = df.head(15)\n",
    "print(\"Shape of the dataframe after taking only 15 rows: \", df.shape)\n",
    "df.head()"
   ]
  },
  {
   "cell_type": "code",
   "execution_count": 5,
   "metadata": {},
   "outputs": [
    {
     "name": "stdout",
     "output_type": "stream",
     "text": [
      "SME prepared how a successful or failed response would look like\n"
     ]
    }
   ],
   "source": [
    "# A subject matter expert (SME) would define a sample of successful and failed responses\n",
    "sample_news = \"\"\"\n",
    "Carlos Tevez has been told to terminate his contract with Juventus to complete a return to his former club Boca Juniors in Argentina. \n",
    "The former Manchester City striker's deal with the Serie A champions does not expire until the end of next season but he has reportedly told the club he wishes to leave this summer. \n",
    "Boca have confirmed they are close to completing a deal for the 31-year-old, but club president Daniel Angelici has stressed that Tevez must terminate his contract with the Italians first.\n",
    "Carlos Tevez has shocked Juventus by suggesting he wants to leave the club this summer .\n",
    "Tevez is on course to win a second Serie A title with the Old Lady and still has a shot at European glory .\n",
    "'We must be careful', Angelici told TYC Sports.\n",
    "'We know that he wants to return to Argentina with Boca Juniors but he must first terminate his contract with Juventus, which runs until 2016.\n",
    "'We are close to sealing his return and it will be done shortly.' \n",
    "The Argentina international joined Boca's youth academy in 1996 and went on to score 26 league goals in 76 appearances for the club before joining Corinthians in 2005.\n",
    "Although Juventus are reluctant to lose the league's top scorer - Tevez has netted 17 times this season - they have accepted the player wants to leave and have already started identifying potential replacements.\n",
    "Italian paper Tuttosport claims the 31-year-old has already decided to leave the club this summer.\n",
    "Tevez has always said he intends to finish his career back at his first club Boca Juniors in Argentina.\n",
    "Tevez's international manager Tata Martino claims any potential move would have no bearing on the player's Argentina future.\n",
    "'The most important thing for me is that Tevez continues to play as well as he is at the moment,' Martino told Italian paper Tuttosport.\n",
    "'It doesn't matter whether that's at Juventus or Boca. Only he'll know what's best for his future.\n",
    "'I will say this, though: Juventus are a great team, but so are Boca Juniors. It wouldn't be a step down.'\n",
    "\"\"\"\n",
    "\n",
    "successful_highlight_prepared_by_sme = \"\"\"\n",
    "Carlos Tevez has reportedly told Juventus he wants to return to Argentina.\n",
    "Former Manchester City star wants to play for former club Boca Juniors.\n",
    "Club president Daniel Angelici urges striker to cancel his contract first .\n",
    "\"\"\"\n",
    "\n",
    "failed_highlight_prepared_by_sme = \"\"\"\n",
    "Carlos Tevez does not want to leave Juventus.\n",
    "He is happy at the club and wants to stay.\n",
    "He has no intention of returning to Argentina.\n",
    "\"\"\"\n",
    "\n",
    "print(\"SME prepared how a successful or failed response would look like\")"
   ]
  },
  {
   "cell_type": "code",
   "execution_count": 6,
   "metadata": {},
   "outputs": [],
   "source": [
    "# Create a sample successful_response\n",
    "successful_response = str({\n",
    "    \"Question\": \"Generate a summary of the news article, given in the context. The summary should be concise and informative.\",\n",
    "    \"Context\": sample_news,\n",
    "    \"Answer\": successful_highlight_prepared_by_sme\n",
    "})\n",
    "failed_response = str({\n",
    "    \"Question\": \"Generate a summary of the news article, given in the context. The summary should be concise and informative.\",\n",
    "    \"Context\": sample_news,\n",
    "    \"Answer\": failed_highlight_prepared_by_sme\n",
    "})\n",
    "\n",
    "# Define the Task\n",
    "summarization_task = Task(\n",
    "    name=\"Summarization of the news article\",\n",
    "    description=\"Given any news context, the system needs to generate a summary as concisely and accurately as possible.\",\n",
    "    successful_response=successful_response,\n",
    "    failed_response=failed_response\n",
    ")"
   ]
  },
  {
   "cell_type": "markdown",
   "metadata": {},
   "source": [
    "## Evaluation Agents\n",
    "\n",
    "Create the following types of agents for the evaluation and execute the evaluation pipeline.\n",
    "\n",
    "- CriticAgent\n",
    "- QuantifierAgent\n",
    "- QuantifierAgent + Human-in-the-loop\n",
    "- Multi-dimensional Task Utility\n",
    "- VerifierAgent"
   ]
  },
  {
   "cell_type": "markdown",
   "metadata": {},
   "source": [
    "### CriticAgent\n",
    "\n",
    "The CriticAgent's primary function is to suggest a set of criteria for evaluating an application based on the task description and examples of successful and failed executions. For example for summarization, the CriticAgent can suggest criteria like `Relevance`, `Fluency`, `Consistency`, etc.\n",
    "\n",
    "**Input:** For CriticAgent we don't need any real data, as the input data will be the task description and one example of successful and failure each.\n",
    "\n",
    "**Output:** The output of the CriticAgent will be the set of criteria for the evaluation, which is represented in as `List<Criteria>` in `Figure 2`.\n",
    "\n",
    "**Note:** The `CriticAgent` can be a SME or a domain expert who can provide the criteria for the evaluation in the format of `List<Criteria>`."
   ]
  },
  {
   "cell_type": "code",
   "execution_count": 7,
   "metadata": {},
   "outputs": [
    {
     "name": "stdout",
     "output_type": "stream",
     "text": [
      "---------- user ----------\n",
      "Task: Summarization of the news article.\n",
      "        Task description: Given any news context, the system needs to generate a summary as concisely and accurately as possible.\n",
      "        Task successful example: {'Question': 'Generate a summary of the news article, given in the context. The summary should be concise and informative.', 'Context': \"\\nCarlos Tevez has been told to terminate his contract with Juventus to complete a return to his former club Boca Juniors in Argentina. \\nThe former Manchester City striker's deal with the Serie A champions does not expire until the end of next season but he has reportedly told the club he wishes to leave this summer. \\nBoca have confirmed they are close to completing a deal for the 31-year-old, but club president Daniel Angelici has stressed that Tevez must terminate his contract with the Italians first.\\nCarlos Tevez has shocked Juventus by suggesting he wants to leave the club this summer .\\nTevez is on course to win a second Serie A title with the Old Lady and still has a shot at European glory .\\n'We must be careful', Angelici told TYC Sports.\\n'We know that he wants to return to Argentina with Boca Juniors but he must first terminate his contract with Juventus, which runs until 2016.\\n'We are close to sealing his return and it will be done shortly.' \\nThe Argentina international joined Boca's youth academy in 1996 and went on to score 26 league goals in 76 appearances for the club before joining Corinthians in 2005.\\nAlthough Juventus are reluctant to lose the league's top scorer - Tevez has netted 17 times this season - they have accepted the player wants to leave and have already started identifying potential replacements.\\nItalian paper Tuttosport claims the 31-year-old has already decided to leave the club this summer.\\nTevez has always said he intends to finish his career back at his first club Boca Juniors in Argentina.\\nTevez's international manager Tata Martino claims any potential move would have no bearing on the player's Argentina future.\\n'The most important thing for me is that Tevez continues to play as well as he is at the moment,' Martino told Italian paper Tuttosport.\\n'It doesn't matter whether that's at Juventus or Boca. Only he'll know what's best for his future.\\n'I will say this, though: Juventus are a great team, but so are Boca Juniors. It wouldn't be a step down.'\\n\", 'Answer': '\\nCarlos Tevez has reportedly told Juventus he wants to return to Argentina.\\nFormer Manchester City star wants to play for former club Boca Juniors.\\nClub president Daniel Angelici urges striker to cancel his contract first .\\n'}\n",
      "        Task failed example: {'Question': 'Generate a summary of the news article, given in the context. The summary should be concise and informative.', 'Context': \"\\nCarlos Tevez has been told to terminate his contract with Juventus to complete a return to his former club Boca Juniors in Argentina. \\nThe former Manchester City striker's deal with the Serie A champions does not expire until the end of next season but he has reportedly told the club he wishes to leave this summer. \\nBoca have confirmed they are close to completing a deal for the 31-year-old, but club president Daniel Angelici has stressed that Tevez must terminate his contract with the Italians first.\\nCarlos Tevez has shocked Juventus by suggesting he wants to leave the club this summer .\\nTevez is on course to win a second Serie A title with the Old Lady and still has a shot at European glory .\\n'We must be careful', Angelici told TYC Sports.\\n'We know that he wants to return to Argentina with Boca Juniors but he must first terminate his contract with Juventus, which runs until 2016.\\n'We are close to sealing his return and it will be done shortly.' \\nThe Argentina international joined Boca's youth academy in 1996 and went on to score 26 league goals in 76 appearances for the club before joining Corinthians in 2005.\\nAlthough Juventus are reluctant to lose the league's top scorer - Tevez has netted 17 times this season - they have accepted the player wants to leave and have already started identifying potential replacements.\\nItalian paper Tuttosport claims the 31-year-old has already decided to leave the club this summer.\\nTevez has always said he intends to finish his career back at his first club Boca Juniors in Argentina.\\nTevez's international manager Tata Martino claims any potential move would have no bearing on the player's Argentina future.\\n'The most important thing for me is that Tevez continues to play as well as he is at the moment,' Martino told Italian paper Tuttosport.\\n'It doesn't matter whether that's at Juventus or Boca. Only he'll know what's best for his future.\\n'I will say this, though: Juventus are a great team, but so are Boca Juniors. It wouldn't be a step down.'\\n\", 'Answer': '\\nCarlos Tevez does not want to leave Juventus.\\nHe is happy at the club and wants to stay.\\nHe has no intention of returning to Argentina.\\n'}\n",
      "        \n",
      "---------- critic ----------\n",
      "[\n",
      "    {\n",
      "        \"name\": \"Conciseness\",\n",
      "        \"description\": \"The summary should be brief and to-the-point, clearly stating key details from the news context given, without unnecessary details or redundancy.\",\n",
      "        \"accepted_values\": [\"Exceptional\", \"Good\", \"Adequate\", \"Poor\", \"Extremely poor\"]\n",
      "    },\n",
      "    {\n",
      "        \"name\": \"Accuracy\",\n",
      "        \"description\": \"The summary should accurately represent the events, incidents, or points discussed in the news content. There must be no distortion, misinterpretation, or fabrication of facts.\",\n",
      "        \"accepted_values\": [\"Exceptional\", \"Good\", \"Adequate\", \"Poor\", \"Extremely poor\"]\n",
      "    },\n",
      "    {\n",
      "        \"name\": \"Clarity\",\n",
      "        \"description\": \"The summary should be clearly written and easy to understand. The language should be simple, coherent and there should be a logical flow of information\",\n",
      "        \"accepted_values\": [\"Exceptional\", \"Good\", \"Adequate\", \"Poor\", \"Extremely poor\"]\n",
      "    },\n",
      "    {\n",
      "        \"name\": \"Completeness\",\n",
      "        \"description\": \"The summary should capture all the main points of the article. It should not leave out any significant details that affect the understanding of the news content.\",\n",
      "        \"accepted_values\": [\"Exceptional\", \"Good\", \"Adequate\", \"Poor\", \"Extremely poor\"]\n",
      "    }\n",
      "]\n",
      "[Prompt tokens: 1235, Completion tokens: 287]\n",
      "---------- Summary ----------\n",
      "Number of messages: 2\n",
      "Finish reason: Maximum number of messages 2 reached, current message count: 2\n",
      "Total prompt tokens: 1235\n",
      "Total completion tokens: 287\n",
      "Duration: 12.50 seconds\n"
     ]
    }
   ],
   "source": [
    "# Generate the evaluation criteria for the Task\n",
    "critic_agent_output_criteria = await generate_criteria(\n",
    "    task=summarization_task,\n",
    "    model_client=az_openai_model_client,\n",
    "    max_round=2,\n",
    "    additional_instructions=\"Make the output as list of JSON objects.\"\n",
    ")"
   ]
  },
  {
   "cell_type": "code",
   "execution_count": 8,
   "metadata": {},
   "outputs": [
    {
     "data": {
      "text/plain": [
       "[Criterion(name='Conciseness', description='The summary should be brief and to-the-point, clearly stating key details from the news context given, without unnecessary details or redundancy.', accepted_values=['Exceptional', 'Good', 'Adequate', 'Poor', 'Extremely poor'], sub_criteria=[]),\n",
       " Criterion(name='Accuracy', description='The summary should accurately represent the events, incidents, or points discussed in the news content. There must be no distortion, misinterpretation, or fabrication of facts.', accepted_values=['Exceptional', 'Good', 'Adequate', 'Poor', 'Extremely poor'], sub_criteria=[]),\n",
       " Criterion(name='Clarity', description='The summary should be clearly written and easy to understand. The language should be simple, coherent and there should be a logical flow of information', accepted_values=['Exceptional', 'Good', 'Adequate', 'Poor', 'Extremely poor'], sub_criteria=[]),\n",
       " Criterion(name='Completeness', description='The summary should capture all the main points of the article. It should not leave out any significant details that affect the understanding of the news content.', accepted_values=['Exceptional', 'Good', 'Adequate', 'Poor', 'Extremely poor'], sub_criteria=[])]"
      ]
     },
     "execution_count": 8,
     "metadata": {},
     "output_type": "execute_result"
    }
   ],
   "source": [
    "# Let's have a look at the generated criteria\n",
    "critic_agent_output_criteria"
   ]
  },
  {
   "cell_type": "markdown",
   "metadata": {},
   "source": [
    "### QuantifierAgent\n",
    "\n",
    "Once the criteria are established, the QuantifierAgent takes over to quantify how well the application performs against each criterion. This quantification process results in a multi-dimensional assessment of the application's utility, providing a detailed view of its strengths and weaknesses.\n",
    "\n",
    "**Input:** The input to the QuantifierAgent will be the `List<Criteria>` and the application `Logs` (in this case the summarization results).\n",
    "\n",
    "**Output:** The output of the QuantifierAgent will be quantified results for each criteria.\n",
    "\n",
    "**Note:** As this example is a **Reference Free Evaluation**, there will be no `ground_truth` data (`ground_truth = None`), however in case of reference based evaluation, the `ground_truth` data can be used."
   ]
  },
  {
   "cell_type": "code",
   "execution_count": 13,
   "metadata": {},
   "outputs": [
    {
     "data": {
      "text/html": [
       "<div>\n",
       "<style scoped>\n",
       "    .dataframe tbody tr th:only-of-type {\n",
       "        vertical-align: middle;\n",
       "    }\n",
       "\n",
       "    .dataframe tbody tr th {\n",
       "        vertical-align: top;\n",
       "    }\n",
       "\n",
       "    .dataframe thead th {\n",
       "        text-align: right;\n",
       "    }\n",
       "</style>\n",
       "<table border=\"1\" class=\"dataframe\">\n",
       "  <thead>\n",
       "    <tr style=\"text-align: right;\">\n",
       "      <th></th>\n",
       "      <th>article</th>\n",
       "      <th>highlights</th>\n",
       "      <th>id</th>\n",
       "      <th>test_case</th>\n",
       "      <th>quantified_criteria</th>\n",
       "      <th>actual_success</th>\n",
       "      <th>estimated_performance</th>\n",
       "    </tr>\n",
       "  </thead>\n",
       "  <tbody>\n",
       "    <tr>\n",
       "      <th>0</th>\n",
       "      <td>(The Hollywood Reporter)Ben Powers, who played...</td>\n",
       "      <td>Ben Powers joined the cast of \"Good Times\" for...</td>\n",
       "      <td>17c7a92562fc02d45bd6f87470ab93d23e8b2095</td>\n",
       "      <td>{'Question': 'Generate a summary of the news a...</td>\n",
       "      <td>{'actual_success': '', 'estimated_performance'...</td>\n",
       "      <td></td>\n",
       "      <td>{\\n\"Conciseness\": \"Good\",\\n\"Accuracy\": \"Except...</td>\n",
       "    </tr>\n",
       "    <tr>\n",
       "      <th>1</th>\n",
       "      <td>The mother of a five-year-old girl has told of...</td>\n",
       "      <td>Alexis Douglas was outside a friend's house wh...</td>\n",
       "      <td>849d78f1ab168211e20f7eaf2643d1c8a0563855</td>\n",
       "      <td>{'Question': 'Generate a summary of the news a...</td>\n",
       "      <td>{'actual_success': '', 'estimated_performance'...</td>\n",
       "      <td></td>\n",
       "      <td>{\"Conciseness\": \"Good\", \"Accuracy\": \"Exception...</td>\n",
       "    </tr>\n",
       "    <tr>\n",
       "      <th>2</th>\n",
       "      <td>Demetrious Johnson retained his UFC flyweight ...</td>\n",
       "      <td>Demetrious Johnson retains his UFC flyweight t...</td>\n",
       "      <td>dad42c89fe4d85c614836236e450af6e8e79eb2d</td>\n",
       "      <td>{'Question': 'Generate a summary of the news a...</td>\n",
       "      <td>{'actual_success': '', 'estimated_performance'...</td>\n",
       "      <td></td>\n",
       "      <td>{\\n  \"Conciseness\": \"Exceptional\",\\n  \"Accurac...</td>\n",
       "    </tr>\n",
       "    <tr>\n",
       "      <th>3</th>\n",
       "      <td>A red hot Novak Djokovic is being tipped to en...</td>\n",
       "      <td>Rafael Nadal lost heavily to Novak Djokovic on...</td>\n",
       "      <td>c3b8e6b3cd4b1a87a8e4432c5aa3ed13f33d0e35</td>\n",
       "      <td>{'Question': 'Generate a summary of the news a...</td>\n",
       "      <td>{'actual_success': '', 'estimated_performance'...</td>\n",
       "      <td></td>\n",
       "      <td>{\\n  \"Conciseness\": \"Exceptional\",\\n  \"Accurac...</td>\n",
       "    </tr>\n",
       "    <tr>\n",
       "      <th>4</th>\n",
       "      <td>Online marriage proposals and star-struck chil...</td>\n",
       "      <td>Sydney Tech journalist Rae Johnston is a passi...</td>\n",
       "      <td>c1f74d08bb21b794cbcdfe5f5be81e4eca728c14</td>\n",
       "      <td>{'Question': 'Generate a summary of the news a...</td>\n",
       "      <td>{'actual_success': '', 'estimated_performance'...</td>\n",
       "      <td></td>\n",
       "      <td>{\"Conciseness\": \"Good\",\\n\"Accuracy\": \"Exceptio...</td>\n",
       "    </tr>\n",
       "  </tbody>\n",
       "</table>\n",
       "</div>"
      ],
      "text/plain": [
       "                                             article  \\\n",
       "0  (The Hollywood Reporter)Ben Powers, who played...   \n",
       "1  The mother of a five-year-old girl has told of...   \n",
       "2  Demetrious Johnson retained his UFC flyweight ...   \n",
       "3  A red hot Novak Djokovic is being tipped to en...   \n",
       "4  Online marriage proposals and star-struck chil...   \n",
       "\n",
       "                                          highlights  \\\n",
       "0  Ben Powers joined the cast of \"Good Times\" for...   \n",
       "1  Alexis Douglas was outside a friend's house wh...   \n",
       "2  Demetrious Johnson retains his UFC flyweight t...   \n",
       "3  Rafael Nadal lost heavily to Novak Djokovic on...   \n",
       "4  Sydney Tech journalist Rae Johnston is a passi...   \n",
       "\n",
       "                                         id  \\\n",
       "0  17c7a92562fc02d45bd6f87470ab93d23e8b2095   \n",
       "1  849d78f1ab168211e20f7eaf2643d1c8a0563855   \n",
       "2  dad42c89fe4d85c614836236e450af6e8e79eb2d   \n",
       "3  c3b8e6b3cd4b1a87a8e4432c5aa3ed13f33d0e35   \n",
       "4  c1f74d08bb21b794cbcdfe5f5be81e4eca728c14   \n",
       "\n",
       "                                           test_case  \\\n",
       "0  {'Question': 'Generate a summary of the news a...   \n",
       "1  {'Question': 'Generate a summary of the news a...   \n",
       "2  {'Question': 'Generate a summary of the news a...   \n",
       "3  {'Question': 'Generate a summary of the news a...   \n",
       "4  {'Question': 'Generate a summary of the news a...   \n",
       "\n",
       "                                 quantified_criteria actual_success  \\\n",
       "0  {'actual_success': '', 'estimated_performance'...                  \n",
       "1  {'actual_success': '', 'estimated_performance'...                  \n",
       "2  {'actual_success': '', 'estimated_performance'...                  \n",
       "3  {'actual_success': '', 'estimated_performance'...                  \n",
       "4  {'actual_success': '', 'estimated_performance'...                  \n",
       "\n",
       "                               estimated_performance  \n",
       "0  {\\n\"Conciseness\": \"Good\",\\n\"Accuracy\": \"Except...  \n",
       "1  {\"Conciseness\": \"Good\", \"Accuracy\": \"Exception...  \n",
       "2  {\\n  \"Conciseness\": \"Exceptional\",\\n  \"Accurac...  \n",
       "3  {\\n  \"Conciseness\": \"Exceptional\",\\n  \"Accurac...  \n",
       "4  {\"Conciseness\": \"Good\",\\n\"Accuracy\": \"Exceptio...  "
      ]
     },
     "execution_count": 13,
     "metadata": {},
     "output_type": "execute_result"
    }
   ],
   "source": [
    "# Quantify the task performance against each criteria\n",
    "# Let's generate a test case for the summarization task\n",
    "import asyncio\n",
    "\n",
    "def generate_test_case(x):\n",
    "    return str({\n",
    "        \"Question\": \"Generate a summary of the news article, given in the context. The summary should be concise and informative.\",\n",
    "        \"Context\": x['article'],\n",
    "        \"Answer\": x['highlights']\n",
    "    })\n",
    "df['test_case'] = df.apply(generate_test_case, axis=1)\n",
    "\n",
    "# Now, let's quantify the task performance against each criteria\n",
    "async def generate_quantified_criteria(x, az_openai_model_client, criteria, task):\n",
    "    return await quantify_criteria(\n",
    "        model_client=az_openai_model_client,\n",
    "        criteria=criteria,\n",
    "        task=task,\n",
    "        test_case=x['test_case']\n",
    "    )\n",
    "df['quantified_criteria'] = await asyncio.gather(\n",
    "    *[generate_quantified_criteria(\n",
    "        x, az_openai_model_client, critic_agent_output_criteria, summarization_task\n",
    "      ) for _, x in df.iterrows()\n",
    "    ]\n",
    ")\n",
    "df['actual_success'] = df['quantified_criteria'].apply(lambda x: x['actual_success'])\n",
    "df['estimated_performance'] = df['quantified_criteria'].apply(lambda x: x['estimated_performance'])\n",
    "df.head()"
   ]
  },
  {
   "cell_type": "code",
   "execution_count": 14,
   "metadata": {},
   "outputs": [
    {
     "name": "stdout",
     "output_type": "stream",
     "text": [
      "{\n",
      "\"Conciseness\": \"Good\",\n",
      "\"Accuracy\": \"Exceptional\",\n",
      "\"Clarity\": \"Exceptional\",\n",
      "\"Completeness\": \"Good\"\n",
      "}\n"
     ]
    }
   ],
   "source": [
    "# Let's have a look one of the quantified output\n",
    "print(df.iloc[0]['estimated_performance'])"
   ]
  },
  {
   "cell_type": "markdown",
   "metadata": {},
   "source": [
    "### Multi-dimensional Task Utility\n",
    "\n",
    "The Multi-dimensional Task Utility agent combines the outputs of the CriticAgent and QuantifierAgent to provide a comprehensive evaluation of the application's utility. This utility score can be used to compare different applications or versions of the same application, where the Task being evaluated can be of two types:\n",
    "\n",
    "- *Success is not clearly defined*: In this case, the task is to generate a summary of the input text. The success is not clearly defined, and the evaluation is based on the criteria provided by the CriticAgent. A possible evaluation can be based on the relevance, fluency, and coherence of the generated summary.\n",
    "- *Success is clearly defined*: In other cases where task is to generate a code or mathematical expression, the success is clearly defined and the evaluation is based on compiler of the code or correctness of the mathematical expression. A possible evaluation can be based on the respective code compiler or mathematical expression correctness."
   ]
  },
  {
   "cell_type": "code",
   "execution_count": 15,
   "metadata": {},
   "outputs": [
    {
     "data": {
      "text/html": [
       "<div>\n",
       "<style scoped>\n",
       "    .dataframe tbody tr th:only-of-type {\n",
       "        vertical-align: middle;\n",
       "    }\n",
       "\n",
       "    .dataframe tbody tr th {\n",
       "        vertical-align: top;\n",
       "    }\n",
       "\n",
       "    .dataframe thead th {\n",
       "        text-align: right;\n",
       "    }\n",
       "</style>\n",
       "<table border=\"1\" class=\"dataframe\">\n",
       "  <thead>\n",
       "    <tr style=\"text-align: right;\">\n",
       "      <th></th>\n",
       "      <th>article</th>\n",
       "      <th>highlights</th>\n",
       "      <th>id</th>\n",
       "      <th>test_case</th>\n",
       "      <th>quantified_criteria</th>\n",
       "      <th>actual_success</th>\n",
       "      <th>estimated_performance</th>\n",
       "      <th>success_score</th>\n",
       "    </tr>\n",
       "  </thead>\n",
       "  <tbody>\n",
       "    <tr>\n",
       "      <th>0</th>\n",
       "      <td>(The Hollywood Reporter)Ben Powers, who played...</td>\n",
       "      <td>Ben Powers joined the cast of \"Good Times\" for...</td>\n",
       "      <td>17c7a92562fc02d45bd6f87470ab93d23e8b2095</td>\n",
       "      <td>{'Question': 'Generate a summary of the news a...</td>\n",
       "      <td>{'actual_success': '', 'estimated_performance'...</td>\n",
       "      <td></td>\n",
       "      <td>{\\n\"Conciseness\": \"Good\",\\n\"Accuracy\": \"Except...</td>\n",
       "      <td>0.90</td>\n",
       "    </tr>\n",
       "    <tr>\n",
       "      <th>1</th>\n",
       "      <td>The mother of a five-year-old girl has told of...</td>\n",
       "      <td>Alexis Douglas was outside a friend's house wh...</td>\n",
       "      <td>849d78f1ab168211e20f7eaf2643d1c8a0563855</td>\n",
       "      <td>{'Question': 'Generate a summary of the news a...</td>\n",
       "      <td>{'actual_success': '', 'estimated_performance'...</td>\n",
       "      <td></td>\n",
       "      <td>{\"Conciseness\": \"Good\", \"Accuracy\": \"Exception...</td>\n",
       "      <td>0.90</td>\n",
       "    </tr>\n",
       "    <tr>\n",
       "      <th>2</th>\n",
       "      <td>Demetrious Johnson retained his UFC flyweight ...</td>\n",
       "      <td>Demetrious Johnson retains his UFC flyweight t...</td>\n",
       "      <td>dad42c89fe4d85c614836236e450af6e8e79eb2d</td>\n",
       "      <td>{'Question': 'Generate a summary of the news a...</td>\n",
       "      <td>{'actual_success': '', 'estimated_performance'...</td>\n",
       "      <td></td>\n",
       "      <td>{\\n  \"Conciseness\": \"Exceptional\",\\n  \"Accurac...</td>\n",
       "      <td>0.95</td>\n",
       "    </tr>\n",
       "    <tr>\n",
       "      <th>3</th>\n",
       "      <td>A red hot Novak Djokovic is being tipped to en...</td>\n",
       "      <td>Rafael Nadal lost heavily to Novak Djokovic on...</td>\n",
       "      <td>c3b8e6b3cd4b1a87a8e4432c5aa3ed13f33d0e35</td>\n",
       "      <td>{'Question': 'Generate a summary of the news a...</td>\n",
       "      <td>{'actual_success': '', 'estimated_performance'...</td>\n",
       "      <td></td>\n",
       "      <td>{\\n  \"Conciseness\": \"Exceptional\",\\n  \"Accurac...</td>\n",
       "      <td>0.85</td>\n",
       "    </tr>\n",
       "    <tr>\n",
       "      <th>4</th>\n",
       "      <td>Online marriage proposals and star-struck chil...</td>\n",
       "      <td>Sydney Tech journalist Rae Johnston is a passi...</td>\n",
       "      <td>c1f74d08bb21b794cbcdfe5f5be81e4eca728c14</td>\n",
       "      <td>{'Question': 'Generate a summary of the news a...</td>\n",
       "      <td>{'actual_success': '', 'estimated_performance'...</td>\n",
       "      <td></td>\n",
       "      <td>{\"Conciseness\": \"Good\",\\n\"Accuracy\": \"Exceptio...</td>\n",
       "      <td>0.90</td>\n",
       "    </tr>\n",
       "  </tbody>\n",
       "</table>\n",
       "</div>"
      ],
      "text/plain": [
       "                                             article  \\\n",
       "0  (The Hollywood Reporter)Ben Powers, who played...   \n",
       "1  The mother of a five-year-old girl has told of...   \n",
       "2  Demetrious Johnson retained his UFC flyweight ...   \n",
       "3  A red hot Novak Djokovic is being tipped to en...   \n",
       "4  Online marriage proposals and star-struck chil...   \n",
       "\n",
       "                                          highlights  \\\n",
       "0  Ben Powers joined the cast of \"Good Times\" for...   \n",
       "1  Alexis Douglas was outside a friend's house wh...   \n",
       "2  Demetrious Johnson retains his UFC flyweight t...   \n",
       "3  Rafael Nadal lost heavily to Novak Djokovic on...   \n",
       "4  Sydney Tech journalist Rae Johnston is a passi...   \n",
       "\n",
       "                                         id  \\\n",
       "0  17c7a92562fc02d45bd6f87470ab93d23e8b2095   \n",
       "1  849d78f1ab168211e20f7eaf2643d1c8a0563855   \n",
       "2  dad42c89fe4d85c614836236e450af6e8e79eb2d   \n",
       "3  c3b8e6b3cd4b1a87a8e4432c5aa3ed13f33d0e35   \n",
       "4  c1f74d08bb21b794cbcdfe5f5be81e4eca728c14   \n",
       "\n",
       "                                           test_case  \\\n",
       "0  {'Question': 'Generate a summary of the news a...   \n",
       "1  {'Question': 'Generate a summary of the news a...   \n",
       "2  {'Question': 'Generate a summary of the news a...   \n",
       "3  {'Question': 'Generate a summary of the news a...   \n",
       "4  {'Question': 'Generate a summary of the news a...   \n",
       "\n",
       "                                 quantified_criteria actual_success  \\\n",
       "0  {'actual_success': '', 'estimated_performance'...                  \n",
       "1  {'actual_success': '', 'estimated_performance'...                  \n",
       "2  {'actual_success': '', 'estimated_performance'...                  \n",
       "3  {'actual_success': '', 'estimated_performance'...                  \n",
       "4  {'actual_success': '', 'estimated_performance'...                  \n",
       "\n",
       "                               estimated_performance  success_score  \n",
       "0  {\\n\"Conciseness\": \"Good\",\\n\"Accuracy\": \"Except...           0.90  \n",
       "1  {\"Conciseness\": \"Good\", \"Accuracy\": \"Exception...           0.90  \n",
       "2  {\\n  \"Conciseness\": \"Exceptional\",\\n  \"Accurac...           0.95  \n",
       "3  {\\n  \"Conciseness\": \"Exceptional\",\\n  \"Accurac...           0.85  \n",
       "4  {\"Conciseness\": \"Good\",\\n\"Accuracy\": \"Exceptio...           0.90  "
      ]
     },
     "execution_count": 15,
     "metadata": {},
     "output_type": "execute_result"
    }
   ],
   "source": [
    "# A simple numerical representation of the quantified output for summarization task evaluation success score.\n",
    "#  This can be enhanced with different approach like Multiple Evidence Calibration (MEC), Balanced Position Calibration (BPC),\n",
    "#   or Human In The Loop Calibration (HITLC) with the external human agent based approach.\n",
    "def success_score_calculation(x):\n",
    "    score = 0\n",
    "    criteria_weight = 1/len(critic_agent_output_criteria)\n",
    "    for key, value in ast.literal_eval(x[\"estimated_performance\"]).items():\n",
    "        criteria = [c for c in critic_agent_output_criteria if c.name == key][0]\n",
    "        value_weight = 1/len(criteria.accepted_values)\n",
    "        value_index = criteria.accepted_values.index(value)\n",
    "        reversed_value_index = len(criteria.accepted_values) - value_index\n",
    "        value_score = reversed_value_index * value_weight\n",
    "        score += value_score * criteria_weight\n",
    "    return round(score, 2)\n",
    "df['success_score'] = df.apply(success_score_calculation, axis=1)\n",
    "df.head()"
   ]
  },
  {
   "cell_type": "code",
   "execution_count": 16,
   "metadata": {},
   "outputs": [
    {
     "data": {
      "text/plain": [
       "<matplotlib.lines.Line2D at 0x22d29f82ad0>"
      ]
     },
     "execution_count": 16,
     "metadata": {},
     "output_type": "execute_result"
    },
    {
     "data": {
      "image/png": "[encoded data removed]",
      "text/plain": [
       "<Figure size 700x300 with 1 Axes>"
      ]
     },
     "metadata": {},
     "output_type": "display_data"
    }
   ],
   "source": [
    "# Plot the success score as line chart with an average line\n",
    "plt = df['success_score'].plot(kind='line', figsize=(7, 3), title=\"Success Score for Summarization Task Evaluation\")\n",
    "plt.axhline(y=df['success_score'].mean(), color='r', linestyle='--')"
   ]
  },
  {
   "cell_type": "markdown",
   "metadata": {},
   "source": [
    "### VerifierAgent\n",
    "\n",
    "VerifierAgent ensures the criteria used to evaluate a utility are effective for the end-user, maintaining both robustness and high discriminative power.\n",
    "\n",
    "**Input:** The input to the VerifierAgent will be the `CriticAgent` and `QuantifierAgent`, that will be executed N number of times. Also an additional input will be the `SummarizedCriteriaAgent` which will be used to summarize the criteria.\n",
    "\n",
    "**Output:** The output of the VerifierAgent will be the `final_criteria=List<Criteria>` which will be used for the evaluation.\n",
    "\n",
    "[Algorithm 1 VerifierAgent](https://arxiv.org/pdf/2405.02178)\n",
    "\n",
    "**Note:** In the research the recommended values are `N=50` and `E=18`. However, for this demonstration we will use `N=5`, `E=4` and `S=5`."
   ]
  },
  {
   "cell_type": "code",
   "execution_count": 17,
   "metadata": {},
   "outputs": [
    {
     "name": "stdout",
     "output_type": "stream",
     "text": [
      "Shape of the dataframe after taking only 5 rows:  (5, 8)\n"
     ]
    }
   ],
   "source": [
    "# Step 1: First let's take the sample of the data\n",
    "df = df.head(5)\n",
    "print(\"Shape of the dataframe after taking only 5 rows: \", df.shape)"
   ]
  },
  {
   "cell_type": "code",
   "execution_count": 18,
   "metadata": {},
   "outputs": [
    {
     "name": "stdout",
     "output_type": "stream",
     "text": [
      "---------- user ----------\n",
      "Task: Summarization of the news article.\n",
      "        Task description: Given any news context, the system needs to generate a summary as concisely and accurately as possible.\n",
      "        Task successful example: {'Question': 'Generate a summary of the news article, given in the context. The summary should be concise and informative.', 'Context': \"\\nCarlos Tevez has been told to terminate his contract with Juventus to complete a return to his former club Boca Juniors in Argentina. \\nThe former Manchester City striker's deal with the Serie A champions does not expire until the end of next season but he has reportedly told the club he wishes to leave this summer. \\nBoca have confirmed they are close to completing a deal for the 31-year-old, but club president Daniel Angelici has stressed that Tevez must terminate his contract with the Italians first.\\nCarlos Tevez has shocked Juventus by suggesting he wants to leave the club this summer .\\nTevez is on course to win a second Serie A title with the Old Lady and still has a shot at European glory .\\n'We must be careful', Angelici told TYC Sports.\\n'We know that he wants to return to Argentina with Boca Juniors but he must first terminate his contract with Juventus, which runs until 2016.\\n'We are close to sealing his return and it will be done shortly.' \\nThe Argentina international joined Boca's youth academy in 1996 and went on to score 26 league goals in 76 appearances for the club before joining Corinthians in 2005.\\nAlthough Juventus are reluctant to lose the league's top scorer - Tevez has netted 17 times this season - they have accepted the player wants to leave and have already started identifying potential replacements.\\nItalian paper Tuttosport claims the 31-year-old has already decided to leave the club this summer.\\nTevez has always said he intends to finish his career back at his first club Boca Juniors in Argentina.\\nTevez's international manager Tata Martino claims any potential move would have no bearing on the player's Argentina future.\\n'The most important thing for me is that Tevez continues to play as well as he is at the moment,' Martino told Italian paper Tuttosport.\\n'It doesn't matter whether that's at Juventus or Boca. Only he'll know what's best for his future.\\n'I will say this, though: Juventus are a great team, but so are Boca Juniors. It wouldn't be a step down.'\\n\", 'Answer': '\\nCarlos Tevez has reportedly told Juventus he wants to return to Argentina.\\nFormer Manchester City star wants to play for former club Boca Juniors.\\nClub president Daniel Angelici urges striker to cancel his contract first .\\n'}\n",
      "        Task failed example: {'Question': 'Generate a summary of the news article, given in the context. The summary should be concise and informative.', 'Context': \"\\nCarlos Tevez has been told to terminate his contract with Juventus to complete a return to his former club Boca Juniors in Argentina. \\nThe former Manchester City striker's deal with the Serie A champions does not expire until the end of next season but he has reportedly told the club he wishes to leave this summer. \\nBoca have confirmed they are close to completing a deal for the 31-year-old, but club president Daniel Angelici has stressed that Tevez must terminate his contract with the Italians first.\\nCarlos Tevez has shocked Juventus by suggesting he wants to leave the club this summer .\\nTevez is on course to win a second Serie A title with the Old Lady and still has a shot at European glory .\\n'We must be careful', Angelici told TYC Sports.\\n'We know that he wants to return to Argentina with Boca Juniors but he must first terminate his contract with Juventus, which runs until 2016.\\n'We are close to sealing his return and it will be done shortly.' \\nThe Argentina international joined Boca's youth academy in 1996 and went on to score 26 league goals in 76 appearances for the club before joining Corinthians in 2005.\\nAlthough Juventus are reluctant to lose the league's top scorer - Tevez has netted 17 times this season - they have accepted the player wants to leave and have already started identifying potential replacements.\\nItalian paper Tuttosport claims the 31-year-old has already decided to leave the club this summer.\\nTevez has always said he intends to finish his career back at his first club Boca Juniors in Argentina.\\nTevez's international manager Tata Martino claims any potential move would have no bearing on the player's Argentina future.\\n'The most important thing for me is that Tevez continues to play as well as he is at the moment,' Martino told Italian paper Tuttosport.\\n'It doesn't matter whether that's at Juventus or Boca. Only he'll know what's best for his future.\\n'I will say this, though: Juventus are a great team, but so are Boca Juniors. It wouldn't be a step down.'\\n\", 'Answer': '\\nCarlos Tevez does not want to leave Juventus.\\nHe is happy at the club and wants to stay.\\nHe has no intention of returning to Argentina.\\n'}\n",
      "        \n",
      "---------- Summary ----------\n",
      "Number of messages: 2\n",
      "Finish reason: Maximum number of messages 2 reached, current message count: 2\n",
      "Total prompt tokens: 1235\n",
      "Total completion tokens: 302\n",
      "Duration: 8.00 seconds\n",
      "---------- critic ----------\n",
      "[\n",
      "    {\"name\": \"Completeness\", \"description\": \"The summary should consist of all the main points of the article.\", \"accepted_values\": [\"All points covered\", \"Most points covered\", \"Some points covered\", \"Few points covered\", \"No points covered\"]},\n",
      "    {\"name\": \"Conciseness\", \"description\": \"The summary should be concise, providing information in the most efficient way possible.\", \"accepted_values\": [\"Extremely concise\", \"Very concise\", \"Moderately concise\", \"Slightly concise\", \"Not concise\"]},\n",
      "    {\"name\": \"Accuracy\", \"description\": \"The information provided in the summary should accurately represent the information in the article.\", \"accepted_values\": [\"Totally accurate\", \"Mostly accurate\", \"Partially accurate\", \"Barely accurate\", \"Not accurate\"]},\n",
      "    {\"name\": \"Coherence\", \"description\": \"The summary should be coherent and read as a unified whole, rather than a collection of disjointed points.\", \"accepted_values\": [\"Extremely coherent\", \"Very coherent\", \"Moderately coherent\", \"Slightly coherent\", \"Not coherent\"]},\n",
      "    {\"name\": \"Language\", \"description\": \"The summary should be written in clear, correct English. Grammar, punctuation, spelling and other language components should be correct.\", \"accepted_values\": [\"Excellent language use\", \"Very good language use\", \"Good language use\", \"Fair language use\", \"Poor language use\"]}\n",
      "]\n",
      "[Prompt tokens: 1235, Completion tokens: 296]\n"
     ]
    },
    {
     "name": "stdout",
     "output_type": "stream",
     "text": [
      "---------- Summary ----------\n",
      "Number of messages: 2\n",
      "Finish reason: Maximum number of messages 2 reached, current message count: 2\n",
      "Total prompt tokens: 1235\n",
      "Total completion tokens: 363\n",
      "Duration: 10.95 seconds\n",
      "---------- critic ----------\n",
      "[\n",
      "{\n",
      "\"name\": \"Accuracy\",\n",
      "\"description\": \"The generated summary should accurately represent the main points of the news article. It should not include false information or significant omissions.\",\n",
      "\"accepted_values\": [\"Highly accurate\", \"Mostly accurate\", \"Somewhat accurate\", \"Not accurate\"]\n",
      "},\n",
      "{\n",
      "\"name\": \"Comprehensiveness\",\n",
      "\"description\": \"The summary should cover all key information and essential details presented in the news article.\",\n",
      "\"accepted_values\": [\"Comprehensive\", \"Slightly incomplete\", \"Mostly incomplete\", \"Not comprehensive\"]\n",
      "},\n",
      "{\n",
      "\"name\": \"Conciseness\",\n",
      "\"description\": \"The summary should communicate the information in the shortest possible length without losing key details.\",\n",
      "\"accepted_values\": [\"Highly concise\", \"Mostly concise\", \"Somewhat concise\", \"Not concise\"]\n",
      "},\n",
      "{\n",
      "\"name\": \"Coherence\",\n",
      "\"description\": \"The summary should be logically organized and easy to understand. The ideas should link smoothly.\",\n",
      "\"accepted_values\": [\"Highly coherent\", \"Mostly coherent\", \"Somewhat coherent\", \"Not coherent\"]\n",
      "},\n",
      "{\n",
      "\"name\": \"Language Usage\",\n",
      "\"description\": \"The language used in the summary should be professional, grammatically correct, and free from spelling errors.\",\n",
      "\"accepted_values\": [\"Excellent language\", \"Solid language\", \"Poor language\", \"Incomprehensible language\"]\n",
      "}\n",
      "]\n",
      "[Prompt tokens: 1235, Completion tokens: 268]\n",
      "---------- user ----------\n",
      "Task: Summarization of the news article.\n",
      "        Task description: Given any news context, the system needs to generate a summary as concisely and accurately as possible.\n",
      "        Task successful example: {'Question': 'Generate a summary of the news article, given in the context. The summary should be concise and informative.', 'Context': \"\\nCarlos Tevez has been told to terminate his contract with Juventus to complete a return to his former club Boca Juniors in Argentina. \\nThe former Manchester City striker's deal with the Serie A champions does not expire until the end of next season but he has reportedly told the club he wishes to leave this summer. \\nBoca have confirmed they are close to completing a deal for the 31-year-old, but club president Daniel Angelici has stressed that Tevez must terminate his contract with the Italians first.\\nCarlos Tevez has shocked Juventus by suggesting he wants to leave the club this summer .\\nTevez is on course to win a second Serie A title with the Old Lady and still has a shot at European glory .\\n'We must be careful', Angelici told TYC Sports.\\n'We know that he wants to return to Argentina with Boca Juniors but he must first terminate his contract with Juventus, which runs until 2016.\\n'We are close to sealing his return and it will be done shortly.' \\nThe Argentina international joined Boca's youth academy in 1996 and went on to score 26 league goals in 76 appearances for the club before joining Corinthians in 2005.\\nAlthough Juventus are reluctant to lose the league's top scorer - Tevez has netted 17 times this season - they have accepted the player wants to leave and have already started identifying potential replacements.\\nItalian paper Tuttosport claims the 31-year-old has already decided to leave the club this summer.\\nTevez has always said he intends to finish his career back at his first club Boca Juniors in Argentina.\\nTevez's international manager Tata Martino claims any potential move would have no bearing on the player's Argentina future.\\n'The most important thing for me is that Tevez continues to play as well as he is at the moment,' Martino told Italian paper Tuttosport.\\n'It doesn't matter whether that's at Juventus or Boca. Only he'll know what's best for his future.\\n'I will say this, though: Juventus are a great team, but so are Boca Juniors. It wouldn't be a step down.'\\n\", 'Answer': '\\nCarlos Tevez has reportedly told Juventus he wants to return to Argentina.\\nFormer Manchester City star wants to play for former club Boca Juniors.\\nClub president Daniel Angelici urges striker to cancel his contract first .\\n'}\n",
      "        Task failed example: {'Question': 'Generate a summary of the news article, given in the context. The summary should be concise and informative.', 'Context': \"\\nCarlos Tevez has been told to terminate his contract with Juventus to complete a return to his former club Boca Juniors in Argentina. \\nThe former Manchester City striker's deal with the Serie A champions does not expire until the end of next season but he has reportedly told the club he wishes to leave this summer. \\nBoca have confirmed they are close to completing a deal for the 31-year-old, but club president Daniel Angelici has stressed that Tevez must terminate his contract with the Italians first.\\nCarlos Tevez has shocked Juventus by suggesting he wants to leave the club this summer .\\nTevez is on course to win a second Serie A title with the Old Lady and still has a shot at European glory .\\n'We must be careful', Angelici told TYC Sports.\\n'We know that he wants to return to Argentina with Boca Juniors but he must first terminate his contract with Juventus, which runs until 2016.\\n'We are close to sealing his return and it will be done shortly.' \\nThe Argentina international joined Boca's youth academy in 1996 and went on to score 26 league goals in 76 appearances for the club before joining Corinthians in 2005.\\nAlthough Juventus are reluctant to lose the league's top scorer - Tevez has netted 17 times this season - they have accepted the player wants to leave and have already started identifying potential replacements.\\nItalian paper Tuttosport claims the 31-year-old has already decided to leave the club this summer.\\nTevez has always said he intends to finish his career back at his first club Boca Juniors in Argentina.\\nTevez's international manager Tata Martino claims any potential move would have no bearing on the player's Argentina future.\\n'The most important thing for me is that Tevez continues to play as well as he is at the moment,' Martino told Italian paper Tuttosport.\\n'It doesn't matter whether that's at Juventus or Boca. Only he'll know what's best for his future.\\n'I will say this, though: Juventus are a great team, but so are Boca Juniors. It wouldn't be a step down.'\\n\", 'Answer': '\\nCarlos Tevez does not want to leave Juventus.\\nHe is happy at the club and wants to stay.\\nHe has no intention of returning to Argentina.\\n'}\n",
      "        \n"
     ]
    },
    {
     "data": {
      "text/plain": [
       "[Criterion(name='Relevance', description='The level of relevance of the summary content to the main themes and key points of the original information.', accepted_values=['Highly relevant', 'Relevant', 'Somewhat relevant', 'Not relevant'], sub_criteria=[]),\n",
       " Criterion(name='Completeness', description='Degree to which the summary provides a complete representation of all significant information from the original text.', accepted_values=['Fully complete', 'Mostly complete', 'Somewhat complete', 'Incomplete'], sub_criteria=[]),\n",
       " Criterion(name='Accuracy', description='The extent to which the summary reflects the details, facts, and information from the original text accurately.', accepted_values=['Highly accurate', 'Accurate', 'Somewhat accurate', 'Not accurate'], sub_criteria=[]),\n",
       " Criterion(name='Brevity', description='The conciseness of the summarization while ensuring the original intent is maintained.', accepted_values=['Highly succinct', 'Succinct', 'Somewhat succinct', 'Verbose'], sub_criteria=[]),\n",
       " Criterion(name='Clarity', description='The ease of understanding the content of the summary. It should not require additional context.', accepted_values=['Highly clear', 'Clear', 'Somewhat clear', 'Unclear'], sub_criteria=[]),\n",
       " Criterion(name='Coherence', description='The level of logical consistency and flow in the summary. The ideas should smoothly transition between points.', accepted_values=['Highly coherent', 'Coherent', 'Somewhat coherent', 'Not coherent'], sub_criteria=[]),\n",
       " Criterion(name='Grammar', description='The correctness of the grammar, punctuation, and spelling used in the summary.', accepted_values=['No errors', 'Few errors', 'Many errors', 'Unintelligible due to errors'], sub_criteria=[]),\n",
       " Criterion(name='Language Usage', description='The appropriateness of language used in the summary - it should be professional, grammatically correct, and free from spelling errors.', accepted_values=['Excellent language', 'Solid language', 'Poor language', 'Incomprehensible language'], sub_criteria=[]),\n",
       " Criterion(name='Readability', description='The ease with which an average reader can understand the written content of the summary.', accepted_values=['Easy to read', 'Relatively easy to read', 'Moderately difficult to read', 'Difficult to read'], sub_criteria=[]),\n",
       " Criterion(name='Fluency', description='The flow and smoothness of the summary. It should have logically ordered ideas and a clear, seamless transition from one point to another.', accepted_values=['Highly fluent', 'Fluent', 'Somewhat fluent', 'Not fluent'], sub_criteria=[])]"
      ]
     },
     "execution_count": 18,
     "metadata": {},
     "output_type": "execute_result"
    }
   ],
   "source": [
    "# Step 2: Run CriticAgent with 10 seed and get the summarized criteria\n",
    "summarized_criteria = await generate_summarized_criteria_multiple_seeds(\n",
    "    task=summarization_task,\n",
    "    model_client=az_openai_model_client,\n",
    "    max_round=2,\n",
    "    additional_instructions=\"Make the output as list of JSON objects.\",\n",
    "    seed=5\n",
    ")\n",
    "summarized_criteria\n"
   ]
  },
  {
   "cell_type": "code",
   "execution_count": 19,
   "metadata": {},
   "outputs": [],
   "source": [
    "# Step 2: Run QuantifierAgent with seeds 4 for all samples\n",
    "quantified_criteria_multiple_seeds = []\n",
    "for index, row in df.iterrows():\n",
    "    quantified_criteria = await quantify_criteria_multiple_seeds(\n",
    "        model_client=az_openai_model_client,\n",
    "        criteria=summarized_criteria,\n",
    "        task=summarization_task,\n",
    "        test_case=row['test_case'],\n",
    "        seeds=4\n",
    "    )\n",
    "    quantified_criteria_multiple_seeds.append(quantified_criteria)"
   ]
  },
  {
   "cell_type": "code",
   "execution_count": 20,
   "metadata": {},
   "outputs": [
    {
     "data": {
      "text/plain": [
       "[Criterion(name='Relevance', description='The level of relevance of the summary content to the main themes and key points of the original information.', accepted_values=['Highly relevant', 'Relevant', 'Somewhat relevant', 'Not relevant'], sub_criteria=[]),\n",
       " Criterion(name='Accuracy', description='The extent to which the summary reflects the details, facts, and information from the original text accurately.', accepted_values=['Highly accurate', 'Accurate', 'Somewhat accurate', 'Not accurate'], sub_criteria=[]),\n",
       " Criterion(name='Clarity', description='The ease of understanding the content of the summary. It should not require additional context.', accepted_values=['Highly clear', 'Clear', 'Somewhat clear', 'Unclear'], sub_criteria=[]),\n",
       " Criterion(name='Coherence', description='The level of logical consistency and flow in the summary. The ideas should smoothly transition between points.', accepted_values=['Highly coherent', 'Coherent', 'Somewhat coherent', 'Not coherent'], sub_criteria=[]),\n",
       " Criterion(name='Grammar', description='The correctness of the grammar, punctuation, and spelling used in the summary.', accepted_values=['No errors', 'Few errors', 'Many errors', 'Unintelligible due to errors'], sub_criteria=[]),\n",
       " Criterion(name='Language Usage', description='The appropriateness of language used in the summary - it should be professional, grammatically correct, and free from spelling errors.', accepted_values=['Excellent language', 'Solid language', 'Poor language', 'Incomprehensible language'], sub_criteria=[]),\n",
       " Criterion(name='Readability', description='The ease with which an average reader can understand the written content of the summary.', accepted_values=['Easy to read', 'Relatively easy to read', 'Moderately difficult to read', 'Difficult to read'], sub_criteria=[]),\n",
       " Criterion(name='Fluency', description='The flow and smoothness of the summary. It should have logically ordered ideas and a clear, seamless transition from one point to another.', accepted_values=['Highly fluent', 'Fluent', 'Somewhat fluent', 'Not fluent'], sub_criteria=[])]"
      ]
     },
     "execution_count": 20,
     "metadata": {},
     "output_type": "execute_result"
    }
   ],
   "source": [
    "# Step 3: Run verifier to verify the quantified result and create the final criteria, that can be used for the evaluation\n",
    "verifier = Verify(\n",
    "    summarized_criteria=summarized_criteria,\n",
    "    sampled_quantifications=quantified_criteria_multiple_seeds,\n",
    "    logger=logging.getLogger()\n",
    ")\n",
    "final_criteria = verifier.verify(threshold=0.05)\n",
    "final_criteria"
   ]
  },
  {
   "cell_type": "code",
   "execution_count": 21,
   "metadata": {},
   "outputs": [
    {
     "data": {
      "text/plain": [
       "[Criterion(name='Relevance', description='The level of relevance of the summary content to the main themes and key points of the original information.', accepted_values=['Highly relevant', 'Relevant', 'Somewhat relevant', 'Not relevant'], sub_criteria=[]),\n",
       " Criterion(name='Completeness', description='Degree to which the summary provides a complete representation of all significant information from the original text.', accepted_values=['Fully complete', 'Mostly complete', 'Somewhat complete', 'Incomplete'], sub_criteria=[]),\n",
       " Criterion(name='Accuracy', description='The extent to which the summary reflects the details, facts, and information from the original text accurately.', accepted_values=['Highly accurate', 'Accurate', 'Somewhat accurate', 'Not accurate'], sub_criteria=[]),\n",
       " Criterion(name='Brevity', description='The conciseness of the summarization while ensuring the original intent is maintained.', accepted_values=['Highly succinct', 'Succinct', 'Somewhat succinct', 'Verbose'], sub_criteria=[]),\n",
       " Criterion(name='Clarity', description='The ease of understanding the content of the summary. It should not require additional context.', accepted_values=['Highly clear', 'Clear', 'Somewhat clear', 'Unclear'], sub_criteria=[]),\n",
       " Criterion(name='Coherence', description='The level of logical consistency and flow in the summary. The ideas should smoothly transition between points.', accepted_values=['Highly coherent', 'Coherent', 'Somewhat coherent', 'Not coherent'], sub_criteria=[]),\n",
       " Criterion(name='Grammar', description='The correctness of the grammar, punctuation, and spelling used in the summary.', accepted_values=['No errors', 'Few errors', 'Many errors', 'Unintelligible due to errors'], sub_criteria=[]),\n",
       " Criterion(name='Language Usage', description='The appropriateness of language used in the summary - it should be professional, grammatically correct, and free from spelling errors.', accepted_values=['Excellent language', 'Solid language', 'Poor language', 'Incomprehensible language'], sub_criteria=[]),\n",
       " Criterion(name='Readability', description='The ease with which an average reader can understand the written content of the summary.', accepted_values=['Easy to read', 'Relatively easy to read', 'Moderately difficult to read', 'Difficult to read'], sub_criteria=[]),\n",
       " Criterion(name='Fluency', description='The flow and smoothness of the summary. It should have logically ordered ideas and a clear, seamless transition from one point to another.', accepted_values=['Highly fluent', 'Fluent', 'Somewhat fluent', 'Not fluent'], sub_criteria=[])]"
      ]
     },
     "execution_count": 21,
     "metadata": {},
     "output_type": "execute_result"
    }
   ],
   "source": [
    "# Let's have at summarized criteria\n",
    "summarized_criteria"
   ]
  },
  {
   "cell_type": "code",
   "execution_count": 22,
   "metadata": {},
   "outputs": [
    {
     "data": {
      "text/plain": [
       "[Criterion(name='Conciseness', description='The summary should be brief and to-the-point, clearly stating key details from the news context given, without unnecessary details or redundancy.', accepted_values=['Exceptional', 'Good', 'Adequate', 'Poor', 'Extremely poor'], sub_criteria=[]),\n",
       " Criterion(name='Accuracy', description='The summary should accurately represent the events, incidents, or points discussed in the news content. There must be no distortion, misinterpretation, or fabrication of facts.', accepted_values=['Exceptional', 'Good', 'Adequate', 'Poor', 'Extremely poor'], sub_criteria=[]),\n",
       " Criterion(name='Clarity', description='The summary should be clearly written and easy to understand. The language should be simple, coherent and there should be a logical flow of information', accepted_values=['Exceptional', 'Good', 'Adequate', 'Poor', 'Extremely poor'], sub_criteria=[]),\n",
       " Criterion(name='Completeness', description='The summary should capture all the main points of the article. It should not leave out any significant details that affect the understanding of the news content.', accepted_values=['Exceptional', 'Good', 'Adequate', 'Poor', 'Extremely poor'], sub_criteria=[])]"
      ]
     },
     "execution_count": 22,
     "metadata": {},
     "output_type": "execute_result"
    }
   ],
   "source": [
    "# Let's have a look at initial criteria\n",
    "critic_agent_output_criteria"
   ]
  },
  {
   "cell_type": "markdown",
   "metadata": {},
   "source": [
    "## Summary\n",
    "\n",
    "In this notebook, we have demonstrated how the `AgentEval` framework can be used to evaluate the summarization task. We have used the `CriticAgent`, `QuantifierAgent`, `Multi-dimensional Task Utility`, and `VerifierAgent` to perform the evaluation. The results of the evaluation can be used to compare different applications or versions of the same application.\n",
    "\n",
    "The following are the few key points to note:\n",
    "\n",
    "- `AgentEval` a comprehensive framework designed to perform deep evaluations on the LLM-powered applications using agentic approach.\n",
    "- The evaluation criteria can be suggested by the `CriticAgent` and can be further enhanced by Subject Matter Experts (SMEs).\n",
    "- The constant drift in the evaluation criteria can be handled by the `VerifierAgent` to ensure the robustness and high discriminative power of the evaluation.\n",
    "- An additional multi-dimensional task utility to enhance the evaluation with combination of user metrics (ex. user feedback or success score) and quantified results.\n",
    "- Though the `AgentEval` framework is the outcome of research done for `Task with Defined Success`, it can be used for `Task with not clearly defined success` as well, like *summarization*.\n"
   ]
  }
 ],
 "metadata": {
  "kernelspec": {
   "display_name": "autogen-dev",
   "language": "python",
   "name": "python3"
  },
  "language_info": {
   "codemirror_mode": {
    "name": "ipython",
    "version": 3
   },
   "file_extension": ".py",
   "mimetype": "text/x-python",
   "name": "python",
   "nbconvert_exporter": "python",
   "pygments_lexer": "ipython3",
   "version": "3.13.1"
  }
 },
 "nbformat": 4,
 "nbformat_minor": 2
}
